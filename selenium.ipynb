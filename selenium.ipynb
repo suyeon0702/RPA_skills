{
 "cells": [
  {
   "cell_type": "markdown",
   "metadata": {},
   "source": [
    "## Control Web with Selenium\n",
    "\n",
    "- import\n",
    "- Chrome 시작 with chrome driver\n",
    "- Chrome 시작 (최신버전)\n",
    "- Close & Quit\n",
    "- Chrome Open with Chrome Options\n",
    "- 요소 선택과 상호작용\n",
    "- 요소 선택과 상호작용(2) - Select/Alert/...\n",
    "- 요소 선택과 상호작용(3) - Table 분해\n",
    "- window/frame 전환\n",
    "- 팝업창 제거\n",
    "- Wait\n",
    "- Window 크기 조절\n",
    "- 페이지 이동\n",
    "- execute_script\n",
    "<br><br>\n",
    "-------------------------------------------------------------\n",
    "<div style=\"text-align: right\"> : 2025-01-31 </div>"
   ]
  },
  {
   "cell_type": "markdown",
   "metadata": {},
   "source": [
    "### import"
   ]
  },
  {
   "cell_type": "code",
   "execution_count": 1,
   "metadata": {},
   "outputs": [],
   "source": [
    "from selenium import webdriver\n",
    "from selenium.webdriver.support.ui import Select\n",
    "from selenium.webdriver.common.keys import Keys\n",
    "from selenium.webdriver.common.by import By\n",
    "from pywinauto.keyboard import send_keys\n",
    "from selenium.webdriver.common.alert import Alert\n",
    "from selenium.webdriver.support.select import Select\n",
    "\n",
    "from selenium.webdriver.support.ui import WebDriverWait\n",
    "from selenium.webdriver.support import expected_conditions as EC\n",
    "\n",
    "import json\n",
    "\n",
    "import time, os"
   ]
  },
  {
   "cell_type": "markdown",
   "metadata": {},
   "source": [
    "### Chrome 시작 with chrome driver"
   ]
  },
  {
   "cell_type": "code",
   "execution_count": null,
   "metadata": {},
   "outputs": [],
   "source": [
    "chrome_ver = 102 # 맨 앞자리\n",
    "path = \"\"\n",
    "url = \"https://\"\n",
    "\n",
    "driver = webdriver.Chrome(f\"{path}\\chromedriver_{chrome_ver}\\chromedriver.exe\",)\n",
    "driver.get(url)"
   ]
  },
  {
   "cell_type": "code",
   "execution_count": null,
   "metadata": {},
   "outputs": [],
   "source": [
    "# 만일 여러 VDI가 하나의 프로그램을 공유할 경우\n",
    "# chromedriver 버전차이 때문에 오류가 생길 수 있다.\n",
    "# 그때 사용하는 코드\n",
    "# 해당 폴더에 사용하는 모든 driver 폴더를 넣어놓고 시작\n",
    "\n",
    "import os\n",
    "\n",
    "list_dir = os.listdir(os.getcwd())\n",
    "driver_list = []\n",
    "for x in list_dir:\n",
    "    if \"chromedriver\" in x:\n",
    "        driver_list.append(x)\n",
    "\n",
    "# driver_list.pop(0)\n",
    "\n",
    "from selenium import webdriver\n",
    "\n",
    "for chromedriver in driver_list:\n",
    "    try:\n",
    "        driver = webdriver.Chrome(f\"{os.getcwd()}\\{chromedriver}\\chromedriver.exe\",)\n",
    "    except:\n",
    "        print(chromedriver, \": 실패\")\n",
    "        pass\n",
    "    else:\n",
    "        driver.get(\"https://onspace.sk.com/\")\n",
    "        print(chromedriver, \": 성공\")\n",
    "        break"
   ]
  },
  {
   "cell_type": "markdown",
   "metadata": {},
   "source": [
    "### Chrome 시작 (최신버전)"
   ]
  },
  {
   "cell_type": "code",
   "execution_count": null,
   "metadata": {},
   "outputs": [],
   "source": [
    "# 예전 버전과는 다르게 이제는 chrome driver를 따로 다운받지 않아도 된다.\n",
    "# 인터넷 접속이 제한된 상황에서는 한계가 있을 수 있다.\n",
    "\n",
    "from selenium.webdriver import Chrome\n",
    "\n",
    "driver = Chrome()"
   ]
  },
  {
   "cell_type": "markdown",
   "metadata": {},
   "source": [
    "### Close & Quit"
   ]
  },
  {
   "cell_type": "code",
   "execution_count": null,
   "metadata": {},
   "outputs": [],
   "source": [
    "# close\n",
    "driver.close()\n",
    "\n",
    "# quit\n",
    "driver.quit()"
   ]
  },
  {
   "cell_type": "markdown",
   "metadata": {},
   "source": [
    "### Chrome Open with Chrome Options"
   ]
  },
  {
   "cell_type": "code",
   "execution_count": null,
   "metadata": {},
   "outputs": [],
   "source": [
    "import json\n",
    "\n",
    "# 아래 코드는 \"인쇄\" 시 \"PDF로 저장\"으로 디폴트 설정된 코드 # 저장경로 고정\n",
    "chrome_options = webdriver.ChromeOptions()\n",
    "appState = {\"recentDestinations\": [{\"id\": \"Save as PDF\", \"origin\": \"local\", \"account\": \"\"}],\n",
    "            \"selectedDestinationId\": \"Save as PDF\",\n",
    "            \"version\": 2,\n",
    "            \"isHeaderFooterEnabled\": False,\n",
    "            \"isLandscapeEnabled\": True,\n",
    "            \"scalingType\": 3,\n",
    "            \"scaling\": \"141\"}\n",
    "prefs = {'printing.print_preview_sticky_settings.appState': json.dumps(appState),\n",
    "        'savefile.defau1t_directory': r\"~~저장 경로\"}\n",
    "chrome_options.add_experimental_option('prefs', prefs)\n",
    "chrome_options.add_argument('kiosk-printing')\n",
    "\n",
    "driver = webdriver.Chrome(f\"{os.getcwd()}\\chromedriver_{chrome_ver}\\chromedriver.exe\", options=chrome_options)"
   ]
  },
  {
   "cell_type": "markdown",
   "metadata": {},
   "source": [
    "### 요소 선택과 상호작용"
   ]
  },
  {
   "cell_type": "code",
   "execution_count": null,
   "metadata": {},
   "outputs": [],
   "source": [
    "driver.find_element(by=By.CSS_SELECTOR, value=\"~~\") # id -> #~ / class -> .~ / ...\n",
    "driver.find_element(by=By.XPATH, value=\"~~\")\n",
    "driver.find_element(by=By.ID, value=\"~~\")\n",
    "driver.find_element(by=By.CLASS_NAME, value=\"~~\")\n",
    "# , ...By.LINK_TEXT By.TAG_NAME By.NAME By.PARTIAL_LINK_TEXT\n",
    "\n",
    "# 상호작용\n",
    "'''\n",
    "    .click()\n",
    "    .send_keys()\n",
    "    .clear()\n",
    "    .text()\n",
    "    ...etc.\n",
    "\n",
    "'''\n",
    "\n",
    "# 특수키 입력\n",
    "from selenium.webdriver.common.keys import Keys\n",
    "input_box = \"\" # ex) driver.find_element(By.~~, \"~~~\")\n",
    "input_box.send_keys(Keys.Enter)\n",
    "\n",
    "'''\n",
    "    Keys.ENTER / TAB / SHIFT / CONTROL / ALT / SPACE / BACKSPACE / DELETE / LEFT / RIGHT / UP / DOWN / F1~F12 / ...\n",
    "\n",
    "'''"
   ]
  },
  {
   "cell_type": "markdown",
   "metadata": {},
   "source": [
    "### 요소 선택과 상호작용(2) - Select/Alert/..."
   ]
  },
  {
   "cell_type": "code",
   "execution_count": null,
   "metadata": {},
   "outputs": [],
   "source": [
    "from selenium.webdriver.common.alert import Alert\n",
    "from selenium.webdriver.support.select import Select\n",
    "\n",
    "# select\n",
    "option = \"\"\n",
    "select = Select(driver.find_element(by=By.ID, value=\"~~\"))\n",
    "select.select_by_visible_text(option)\n",
    "\n",
    "select = Select(driver.find_element(by=By.ID, value=\"~~\"))\n",
    "select.select_by_value(\"G\")\n",
    "\n",
    "# alert\n",
    "alert = Alert(driver) # 알림창\n",
    "alert.accept() # \"확인\"\n",
    "alert.dismiss() # \"취소\"\n",
    "alert.text # 텍스트 요소 가져오기"
   ]
  },
  {
   "cell_type": "markdown",
   "metadata": {},
   "source": [
    "### 요소 선택과 상호작용(3) - Table 분해"
   ]
  },
  {
   "cell_type": "code",
   "execution_count": null,
   "metadata": {},
   "outputs": [],
   "source": [
    "# 예시 코드를 통한 설명\n",
    "\n",
    "col_name_list = [] # table 열 이름 목록\n",
    "# time.sleep(3)\n",
    "table = driver.find_element(by=By.CSS_SELECTOR, value= \"~~~\")\n",
    "thead = table.find_element(by=By.TAG_NAME, value=\"thead\")\n",
    "tr = thead.find_element(by=By.TAG_NAME, value=\"tr\")\n",
    "for th in tr.find_elements(by=By.TAG_NAME, value=\"th\"):\n",
    "    col_name_list.append(th.text)\n",
    "\n",
    "# 열 이름 목록에서 조회 원하는 열 이름의 인덱스 찾기\n",
    "num_idx = col_name_list.index(\"번호\")\n",
    "Qty_sum_idx = col_name_list.index(\"수량 합계\")\n",
    "sum_qty_idx = col_name_list.index(\"SUM Qty\")\n",
    "\n",
    "tbody = table.find_element(by=By.TAG_NAME, value=\"tbody\")\n",
    "trows = tbody.find_elements(by=By.TAG_NAME, value=\"tr\")\n",
    "\n",
    "prod_num_list = []\n",
    "\n",
    "for tr in trows: # table 열 단위로 탐색\n",
    "    tdata = tr.find_elements(by=By.TAG_NAME, value=\"td\")\n",
    "\n",
    "    if \"없\" in tdata[0].text: # table 없을 때\n",
    "        print(\"조회된 결과가 없습니다.\")\n",
    "        break\n",
    "    \n",
    "    prod_num = tdata[num_idx].text\n",
    "    startQty_sum = tdata[Qty_sum_idx].find_element(by=By.TAG_NAME, value=\"input\").get_attribute('value')\n",
    "\n",
    "    if prod_num:\n",
    "        pass\n",
    "    else:\n",
    "        print(\"~~\")"
   ]
  },
  {
   "cell_type": "markdown",
   "metadata": {},
   "source": [
    "### window/frame 전환"
   ]
  },
  {
   "cell_type": "code",
   "execution_count": null,
   "metadata": {},
   "outputs": [],
   "source": [
    "# window 전환\n",
    "def SwitchWindow(self): # 팝업창 <-> 기존창 driver 변경 함수 # 팝업창 하나일 때\n",
    "    driver.switch_to.window(driver.window_handles[-1])\n",
    "\n",
    "n = 3 # n번째 창\n",
    "driver.switch_to.window(driver.window_handles[n])\n",
    "\n",
    "# 프레임 전환\n",
    "driver.switch_to.default_content()\n",
    "driver.switch_to.frame(driver.find_element(by=By.XPATH, value='~~~'))"
   ]
  },
  {
   "cell_type": "markdown",
   "metadata": {},
   "source": [
    "### 팝업창 제거"
   ]
  },
  {
   "cell_type": "code",
   "execution_count": null,
   "metadata": {},
   "outputs": [],
   "source": [
    "main = driver.window_handles\n",
    "# 팝업창 종료\n",
    "for handle in main:\n",
    "    if handle != main[0]:\n",
    "        driver.switch_to.window(handle)\n",
    "        driver.close()\n",
    "driver.switch_to.window(main[0])"
   ]
  },
  {
   "cell_type": "markdown",
   "metadata": {},
   "source": [
    "### Wait"
   ]
  },
  {
   "cell_type": "code",
   "execution_count": null,
   "metadata": {},
   "outputs": [],
   "source": [
    "# 강제 대기\n",
    "time.sleep(3)\n",
    "\n",
    "# Implicitly Wait\n",
    "# 명령어를 줬을 때 다음 웹페이지가 넘어올 때까지 기다리라는 뜻\n",
    "# => s초 이내에 페이지가 뜨면 바로 넘어감\n",
    "# => s초가 넘어가면 웹페이지 로딩 여부와 관계없이 다음 명령어를 실행\n",
    "driver = webdriver.Chrome('chromedriver.exe')\n",
    "driver.impolicitly_wait(10)\n",
    "\n",
    "# Explicitly Wait\n",
    "# 해당 요소가 나타날 때까지 기다리라는 뜻\n",
    "# => s초 이내에 페이지가 뜨면 바로 넘어감\n",
    "element = WebDriverWait(driver, 10).until(EC.presence_of_element_located((By.CSS_SELECTOR, \"#ID\")))"
   ]
  },
  {
   "cell_type": "markdown",
   "metadata": {},
   "source": [
    "### Window 크기 조절"
   ]
  },
  {
   "cell_type": "code",
   "execution_count": null,
   "metadata": {},
   "outputs": [],
   "source": [
    "# 최대화\n",
    "driver.maximize_window()\n",
    "\n",
    "# 최소화\n",
    "driver.minimize_window()\n",
    "\n",
    "# 사이즈 조절\n",
    "driver.set_window_size(1250, 1410)\n",
    "\n",
    "# 위치 조절\n",
    "driver.set_window_position(1300, 0)"
   ]
  },
  {
   "cell_type": "markdown",
   "metadata": {},
   "source": [
    "### 페이지 이동"
   ]
  },
  {
   "cell_type": "code",
   "execution_count": null,
   "metadata": {},
   "outputs": [],
   "source": [
    "# 이전 페이지로 이동\n",
    "driver.back()\n",
    "\n",
    "# 다음 페이지로 이동\n",
    "driver.forward()\n",
    "\n",
    "# 새로고침\n",
    "driver.refresh()"
   ]
  },
  {
   "cell_type": "markdown",
   "metadata": {},
   "source": [
    "### execute_script"
   ]
  },
  {
   "cell_type": "code",
   "execution_count": null,
   "metadata": {},
   "outputs": [],
   "source": [
    "# 자바 스크립트로 되어있는 페이지를 조작할 때 사용하는 방법\n",
    "driver.execute_script(\"document.getElementById('WD79).cilck()\")\n",
    "driver.execute_script(\"document.getElementById('WD79).value ='\"+ \"~~\" + \"';\")\n",
    "driver.execute_script(\"document.getElementById('WD75).cilck()\")\n",
    "driver.execute_script(\"document.getElementById('WD75).value ='\"+ \"~~\" + \"';\")"
   ]
  }
 ],
 "metadata": {
  "kernelspec": {
   "display_name": "Python 3",
   "language": "python",
   "name": "python3"
  },
  "language_info": {
   "codemirror_mode": {
    "name": "ipython",
    "version": 3
   },
   "file_extension": ".py",
   "mimetype": "text/x-python",
   "name": "python",
   "nbconvert_exporter": "python",
   "pygments_lexer": "ipython3",
   "version": "3.13.1"
  }
 },
 "nbformat": 4,
 "nbformat_minor": 2
}
